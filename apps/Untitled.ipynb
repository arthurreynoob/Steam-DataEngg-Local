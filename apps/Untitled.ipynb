{
 "cells": [
  {
   "cell_type": "code",
   "execution_count": 1,
   "id": "644ec2ee",
   "metadata": {},
   "outputs": [
    {
     "name": "stderr",
     "output_type": "stream",
     "text": [
      "/spark/spark-3.3.2-bin-hadoop3/bin/load-spark-env.sh: line 68: ps: command not found\n"
     ]
    },
    {
     "name": "stdout",
     "output_type": "stream",
     "text": [
      "23/03/18 11:19:39 WARN NativeCodeLoader: Unable to load native-hadoop library for your platform... using builtin-java classes where applicable\n"
     ]
    },
    {
     "name": "stderr",
     "output_type": "stream",
     "text": [
      "Setting default log level to \"WARN\".\n",
      "To adjust logging level use sc.setLogLevel(newLevel). For SparkR, use setLogLevel(newLevel).\n"
     ]
    }
   ],
   "source": [
    "from pyspark.sql import SparkSession, types, functions as F\n",
    "\n",
    "spark = SparkSession.builder \\\n",
    ".master(\"local[*]\") \\\n",
    ".config(\"spark.driver.memory\",\"8g\") \\\n",
    ".config(\"spark.jars\", \"../resources/postgres_jar/postgresql-42.5.1.jar\") \\\n",
    ".appName('steamAPI') \\\n",
    ".getOrCreate()\n"
   ]
  },
  {
   "cell_type": "code",
   "execution_count": 2,
   "id": "64feae09",
   "metadata": {},
   "outputs": [
    {
     "data": {
      "text/html": [
       "\n",
       "            <div>\n",
       "                <p><b>SparkSession - in-memory</b></p>\n",
       "                \n",
       "        <div>\n",
       "            <p><b>SparkContext</b></p>\n",
       "\n",
       "            <p><a href=\"http://39730cda471d:4040\">Spark UI</a></p>\n",
       "\n",
       "            <dl>\n",
       "              <dt>Version</dt>\n",
       "                <dd><code>v3.3.2</code></dd>\n",
       "              <dt>Master</dt>\n",
       "                <dd><code>local[*]</code></dd>\n",
       "              <dt>AppName</dt>\n",
       "                <dd><code>steamAPI</code></dd>\n",
       "            </dl>\n",
       "        </div>\n",
       "        \n",
       "            </div>\n",
       "        "
      ],
      "text/plain": [
       "<pyspark.sql.session.SparkSession at 0x7f6c5458b4c0>"
      ]
     },
     "execution_count": 2,
     "metadata": {},
     "output_type": "execute_result"
    }
   ],
   "source": [
    "spark"
   ]
  },
  {
   "cell_type": "code",
   "execution_count": 3,
   "id": "a2656c12",
   "metadata": {},
   "outputs": [
    {
     "name": "stderr",
     "output_type": "stream",
     "text": [
      "                                                                                \r"
     ]
    }
   ],
   "source": [
    "steamapi=\"../resources/data/steamapi/*\"\n",
    "df=spark.read.parquet(steamapi,header=True)"
   ]
  },
  {
   "cell_type": "code",
   "execution_count": 9,
   "id": "54c91c32",
   "metadata": {},
   "outputs": [],
   "source": [
    "steamspy=\"../resources/data/steamSpy/*\"\n",
    "df_spy = spark.read.parquet(steamspy,header=True)"
   ]
  },
  {
   "cell_type": "code",
   "execution_count": 10,
   "id": "6f33d16d",
   "metadata": {},
   "outputs": [
    {
     "name": "stdout",
     "output_type": "stream",
     "text": [
      "root\n",
      " |-- appid: long (nullable = true)\n",
      " |-- name: string (nullable = true)\n",
      " |-- developer: string (nullable = true)\n",
      " |-- publisher: string (nullable = true)\n",
      " |-- score_rank: string (nullable = true)\n",
      " |-- positive: long (nullable = true)\n",
      " |-- negative: long (nullable = true)\n",
      " |-- userscore: long (nullable = true)\n",
      " |-- owners: string (nullable = true)\n",
      " |-- average_forever: long (nullable = true)\n",
      " |-- average_2weeks: long (nullable = true)\n",
      " |-- median_forever: long (nullable = true)\n",
      " |-- median_2weeks: long (nullable = true)\n",
      " |-- price: string (nullable = true)\n",
      " |-- initialprice: string (nullable = true)\n",
      " |-- discount: string (nullable = true)\n",
      " |-- ccu: long (nullable = true)\n",
      "\n"
     ]
    }
   ],
   "source": [
    "df_spy.printSchema()"
   ]
  },
  {
   "cell_type": "code",
   "execution_count": 5,
   "id": "85ac4e3e",
   "metadata": {},
   "outputs": [
    {
     "name": "stdout",
     "output_type": "stream",
     "text": [
      "root\n",
      " |-- type: string (nullable = true)\n",
      " |-- name: string (nullable = true)\n",
      " |-- steam_appid: string (nullable = true)\n",
      " |-- required_age: string (nullable = true)\n",
      " |-- is_free: string (nullable = true)\n",
      " |-- detailed_description: string (nullable = true)\n",
      " |-- about_the_game: string (nullable = true)\n",
      " |-- short_description: string (nullable = true)\n",
      " |-- supported_languages: string (nullable = true)\n",
      " |-- header_image: string (nullable = true)\n",
      " |-- website: string (nullable = true)\n",
      " |-- pc_requirements: string (nullable = true)\n",
      " |-- mac_requirements: string (nullable = true)\n",
      " |-- linux_requirements: string (nullable = true)\n",
      " |-- developers: string (nullable = true)\n",
      " |-- publishers: string (nullable = true)\n",
      " |-- price_overview: string (nullable = true)\n",
      " |-- packages: string (nullable = true)\n",
      " |-- package_groups: string (nullable = true)\n",
      " |-- platforms: string (nullable = true)\n",
      " |-- categories: string (nullable = true)\n",
      " |-- genres: string (nullable = true)\n",
      " |-- screenshots: string (nullable = true)\n",
      " |-- movies: string (nullable = true)\n",
      " |-- release_date: string (nullable = true)\n",
      " |-- support_info: string (nullable = true)\n",
      " |-- background: string (nullable = true)\n",
      " |-- background_raw: string (nullable = true)\n",
      " |-- content_descriptors: string (nullable = true)\n",
      " |-- reviews: string (nullable = true)\n",
      " |-- demos: string (nullable = true)\n",
      " |-- achievements: string (nullable = true)\n",
      " |-- legal_notice: string (nullable = true)\n",
      " |-- dlc: string (nullable = true)\n",
      " |-- recommendations: string (nullable = true)\n",
      " |-- controller_support: string (nullable = true)\n",
      " |-- ext_user_account_notice: string (nullable = true)\n",
      "\n"
     ]
    }
   ],
   "source": [
    "df.printSchema()"
   ]
  },
  {
   "cell_type": "code",
   "execution_count": 6,
   "id": "2b09c47d",
   "metadata": {},
   "outputs": [
    {
     "name": "stderr",
     "output_type": "stream",
     "text": [
      "                                                                                \r"
     ]
    },
    {
     "data": {
      "text/plain": [
       "61678"
      ]
     },
     "execution_count": 6,
     "metadata": {},
     "output_type": "execute_result"
    }
   ],
   "source": [
    "df.count()"
   ]
  },
  {
   "cell_type": "code",
   "execution_count": null,
   "id": "a9b79b58",
   "metadata": {},
   "outputs": [],
   "source": []
  }
 ],
 "metadata": {
  "kernelspec": {
   "display_name": "Python 3 (ipykernel)",
   "language": "python",
   "name": "python3"
  },
  "language_info": {
   "codemirror_mode": {
    "name": "ipython",
    "version": 3
   },
   "file_extension": ".py",
   "mimetype": "text/x-python",
   "name": "python",
   "nbconvert_exporter": "python",
   "pygments_lexer": "ipython3",
   "version": "3.10.10"
  }
 },
 "nbformat": 4,
 "nbformat_minor": 5
}
